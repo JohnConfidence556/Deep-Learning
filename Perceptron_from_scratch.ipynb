{
  "nbformat": 4,
  "nbformat_minor": 0,
  "metadata": {
    "colab": {
      "provenance": []
    },
    "kernelspec": {
      "name": "python3",
      "display_name": "Python 3"
    },
    "language_info": {
      "name": "python"
    }
  },
  "cells": [
    {
      "cell_type": "code",
      "execution_count": 1,
      "metadata": {
        "id": "U3UWTwDFSkPP"
      },
      "outputs": [],
      "source": [
        "import numpy as np"
      ]
    },
    {
      "cell_type": "markdown",
      "source": [
        "Sigmoid Perceptron Class"
      ],
      "metadata": {
        "id": "jIB3hSFxTH_v"
      }
    },
    {
      "cell_type": "code",
      "source": [
        "class SigmoidPerceptron():\n",
        "  def __init__(self, input_size):\n",
        "\n",
        "    self.weights = np.random.randn(input_size)\n",
        "    self.bias = np.random.randn(1)\n",
        "\n",
        "\n",
        "  def sigmoid(self, z):\n",
        "    return 1 / (1 + np.exp(-z))\n",
        "\n",
        "  def predict(self, inputs):\n",
        "    z = np.dot(inputs, self.weights) + self.bias\n",
        "    return self.sigmoid(weighted_sum)\n",
        "\n",
        "\n",
        "  def fit(self, inputs, targets, learning_rate, num_epochs):\n",
        "\n",
        "    num_examples = inputs.shape[0]\n",
        "\n",
        "    for epoch in range(num_epochs):\n",
        "      for i in range(num_examples):\n",
        "        input_vector = inputs[i]\n",
        "        target = targets[i]\n",
        "\n",
        "        prediction = self.predict(input_vector)\n",
        "\n",
        "        error = target - prediction\n",
        "\n",
        "        # Update weights\n",
        "        gradient_weights = error * prediction * (1 - prediction) * input_vector\n",
        "        self.weights += learning_rate * gradient_weights\n",
        "\n",
        "        # Update bias\n",
        "        gradient_bias = error * prediction * (1 - prediction)\n",
        "        self.bias += learning_rate * gradient_bias\n",
        "\n",
        "\n",
        "  def evaluate(self):\n",
        "\n",
        "    correct = 0\n",
        "\n",
        "    for input_vector, target in zip(inputs, targets):\n",
        "      prediction = self.predict(input_vector)\n",
        "\n",
        "      if prediction >= 0.5:\n",
        "        predicted_class = 1\n",
        "      else:\n",
        "        predicted_class = 0\n",
        "\n",
        "      if predicted_class == target:\n",
        "        correct += 1\n",
        "\n",
        "    accuracy = correct / len(inputs)      # accuracy = no.of correct predictions/total no. of data points\n",
        "    return accuracy\n",
        "\n",
        ""
      ],
      "metadata": {
        "id": "9GIJPaJ3TQA_"
      },
      "execution_count": 3,
      "outputs": []
    },
    {
      "cell_type": "code",
      "source": [
        "list1 = [10, 20, 30]\n",
        "\n",
        "list2 = [0.2, 0.3, 0.4]\n",
        "\n",
        "for val1, val2 in zip(list1, list2):\n",
        "  print(val1, val2)"
      ],
      "metadata": {
        "colab": {
          "base_uri": "https://localhost:8080/"
        },
        "id": "SYaywYrXUWxC",
        "outputId": "35647c76-574b-4bd6-8bc3-0f991897d278"
      },
      "execution_count": 4,
      "outputs": [
        {
          "output_type": "stream",
          "name": "stdout",
          "text": [
            "10 0.2\n",
            "20 0.3\n",
            "30 0.4\n"
          ]
        }
      ]
    },
    {
      "cell_type": "code",
      "source": [],
      "metadata": {
        "id": "kyKjJQz4dUYN"
      },
      "execution_count": null,
      "outputs": []
    }
  ]
}